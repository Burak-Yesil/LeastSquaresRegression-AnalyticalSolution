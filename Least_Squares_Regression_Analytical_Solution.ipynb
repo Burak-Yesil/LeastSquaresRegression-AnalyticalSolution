{
  "nbformat": 4,
  "nbformat_minor": 0,
  "metadata": {
    "colab": {
      "provenance": []
    },
    "kernelspec": {
      "name": "python3",
      "display_name": "Python 3"
    },
    "language_info": {
      "name": "python"
    }
  },
  "cells": [
    {
      "cell_type": "code",
      "execution_count": 1,
      "metadata": {
        "id": "cSAyZE-rWREh"
      },
      "outputs": [],
      "source": [
        "from keras.datasets import boston_housing "
      ]
    },
    {
      "cell_type": "code",
      "source": [
        "(x_train, y_train), (x_test, y_test) = boston_housing.load_data()"
      ],
      "metadata": {
        "colab": {
          "base_uri": "https://localhost:8080/"
        },
        "id": "rZLbooIKWX77",
        "outputId": "adfdd8b3-8899-4fae-983e-1aa68c6eb089"
      },
      "execution_count": 2,
      "outputs": [
        {
          "output_type": "stream",
          "name": "stdout",
          "text": [
            "Downloading data from https://storage.googleapis.com/tensorflow/tf-keras-datasets/boston_housing.npz\n",
            "57026/57026 [==============================] - 0s 0us/step\n"
          ]
        }
      ]
    },
    {
      "cell_type": "code",
      "source": [
        "import numpy \n",
        "\n",
        "n, d = x_train.shape\n",
        "\n",
        "xbar_train = numpy.concatenate((x_train, numpy.ones((n,1))),axis=1)\n",
        "xbar_train"
      ],
      "metadata": {
        "colab": {
          "base_uri": "https://localhost:8080/"
        },
        "id": "9BNkcrO5Wmxa",
        "outputId": "f1d50eff-5d69-4a89-b5d3-a20a33b29d13"
      },
      "execution_count": 5,
      "outputs": [
        {
          "output_type": "execute_result",
          "data": {
            "text/plain": [
              "array([[1.23247e+00, 0.00000e+00, 8.14000e+00, ..., 3.96900e+02,\n",
              "        1.87200e+01, 1.00000e+00],\n",
              "       [2.17700e-02, 8.25000e+01, 2.03000e+00, ..., 3.95380e+02,\n",
              "        3.11000e+00, 1.00000e+00],\n",
              "       [4.89822e+00, 0.00000e+00, 1.81000e+01, ..., 3.75520e+02,\n",
              "        3.26000e+00, 1.00000e+00],\n",
              "       ...,\n",
              "       [3.46600e-02, 3.50000e+01, 6.06000e+00, ..., 3.62250e+02,\n",
              "        7.83000e+00, 1.00000e+00],\n",
              "       [2.14918e+00, 0.00000e+00, 1.95800e+01, ..., 2.61950e+02,\n",
              "        1.57900e+01, 1.00000e+00],\n",
              "       [1.43900e-02, 6.00000e+01, 2.93000e+00, ..., 3.76700e+02,\n",
              "        4.38000e+00, 1.00000e+00]])"
            ]
          },
          "metadata": {},
          "execution_count": 5
        }
      ]
    },
    {
      "cell_type": "markdown",
      "source": [
        "## Analytical Solution:"
      ],
      "metadata": {
        "id": "Q6_ytW0IXsMa"
      }
    },
    {
      "cell_type": "code",
      "source": [
        "xx = numpy.dot(xbar_train.T, xbar_train)\n",
        "xx_inv = numpy.linalg.pinv(xx)\n",
        "xy = numpy.dot(xbar_train.T, y_train)\n",
        "w = numpy.dot(xx_inv, xy)"
      ],
      "metadata": {
        "id": "md5tO4KyXIgz"
      },
      "execution_count": 6,
      "outputs": []
    },
    {
      "cell_type": "code",
      "source": [
        "w"
      ],
      "metadata": {
        "colab": {
          "base_uri": "https://localhost:8080/"
        },
        "id": "iRbS3wBAXxDo",
        "outputId": "2e9993a1-b1ce-405a-f270-b61794125d6d"
      },
      "execution_count": 7,
      "outputs": [
        {
          "output_type": "execute_result",
          "data": {
            "text/plain": [
              "array([-1.19997513e-01,  5.70003304e-02,  3.98379660e-03,  4.12698187e+00,\n",
              "       -2.05002963e+01,  3.38024903e+00,  7.56807584e-03, -1.71189793e+00,\n",
              "        3.34747537e-01, -1.17797225e-02, -9.02318039e-01,  8.71912756e-03,\n",
              "       -5.55842510e-01,  4.02936706e+01])"
            ]
          },
          "metadata": {},
          "execution_count": 7
        }
      ]
    },
    {
      "cell_type": "code",
      "source": [
        "y_lsr = numpy.dot(xbar_train, w)\n",
        "diff = y_lsr - y_train \n",
        "mse = numpy.mean(diff*diff)\n",
        "print(\"Train MSE: \" + str(mse))"
      ],
      "metadata": {
        "colab": {
          "base_uri": "https://localhost:8080/"
        },
        "id": "_sBlX81yXeLq",
        "outputId": "dca15ca9-1e8e-4b66-898f-d29475bd59b8"
      },
      "execution_count": 8,
      "outputs": [
        {
          "output_type": "stream",
          "name": "stdout",
          "text": [
            "Train MSE: 22.00480083834814\n"
          ]
        }
      ]
    }
  ]
}